{
 "cells": [
  {
   "cell_type": "code",
   "execution_count": 1,
   "metadata": {
    "collapsed": false
   },
   "outputs": [],
   "source": [
    "from ipywidgets.widgets import *"
   ]
  },
  {
   "cell_type": "code",
   "execution_count": 2,
   "metadata": {
    "collapsed": true
   },
   "outputs": [],
   "source": [
    "import matplotlib.pyplot as plt\n",
    "import numpy as np"
   ]
  },
  {
   "cell_type": "code",
   "execution_count": 3,
   "metadata": {
    "collapsed": false
   },
   "outputs": [],
   "source": [
    "def multiplying_medium(k,l,t):\n",
    "    n = np.exp((k-1)/l*t)\n",
    "    normalizer = 'n(0)'\n",
    "    return n,normalizer\n",
    "\n",
    "def multiplying_medium_const_source(k,l,t):\n",
    "    if k != 1:\n",
    "        n = -(l/(k-1))*(1-np.exp((k-1)/l*t))\n",
    "    else:\n",
    "        n = t\n",
    "    normalizer = 'S_0'\n",
    "    return n,normalizer\n",
    "\n",
    "def plot_neutron_population(k=1.0,generator='Infinite medium',xaxis=2):\n",
    "    l = 1 \n",
    "    t = np.arange(0,xaxis,0.001)\n",
    "    g,norm = generator(k,l,t)\n",
    "    fig,ax = plt.subplots(figsize=(8,8))\n",
    "    ax.plot(t,g)\n",
    "    ax.plot(t,np.ones_like(t),'--')\n",
    "    ax.set_xlim(0,xaxis)\n",
    "    ax.set_xlabel('t [s]',fontsize=16)\n",
    "    ax.set_ylim(0,2)\n",
    "    ax.set_ylabel('$n(t)/{}$'.format(norm),fontsize=16)\n",
    "    plt.show()\n",
    "    "
   ]
  },
  {
   "cell_type": "code",
   "execution_count": 4,
   "metadata": {
    "collapsed": false
   },
   "outputs": [
    {
     "data": {
      "image/png": "[encoded data removed]",
      "text/plain": [
       "<matplotlib.figure.Figure at 0x10e865f98>"
      ]
     },
     "metadata": {},
     "output_type": "display_data"
    }
   ],
   "source": [
    "interact(plot_neutron_population,\n",
    "         k = FloatSlider(value=1,min=0,max=2,step=0.02),\n",
    "         generator = {'Multiplying medium': multiplying_medium,\n",
    "                      'Multiplying medium, constant source': multiplying_medium_const_source\n",
    "                      },\n",
    "         xaxis=(1,5)\n",
    "         )"
   ]
  }
 ],
 "metadata": {
  "kernelspec": {
   "display_name": "Python 3",
   "language": "python",
   "name": "python3"
  },
  "language_info": {
   "codemirror_mode": {
    "name": "ipython",
    "version": 3
   },
   "file_extension": ".py",
   "mimetype": "text/x-python",
   "name": "python",
   "nbconvert_exporter": "python",
   "pygments_lexer": "ipython3",
   "version": "3.6.0"
  },
  "widgets": {
   "state": {
    "ebd7548c44d04e17b646527fa355deb3": {
     "views": [
      {
       "cell_index": 3
      }
     ]
    }
   },
   "version": "1.2.0"
  }
 },
 "nbformat": 4,
 "nbformat_minor": 2
}
